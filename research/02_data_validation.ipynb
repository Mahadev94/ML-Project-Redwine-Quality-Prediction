{
 "cells": [
  {
   "cell_type": "code",
   "execution_count": 4,
   "metadata": {},
   "outputs": [],
   "source": [
    "import os"
   ]
  },
  {
   "cell_type": "code",
   "execution_count": 2,
   "metadata": {},
   "outputs": [
    {
     "data": {
      "text/plain": [
       "'c:\\\\Users\\\\HP\\\\Desktop\\\\DS\\\\Projects\\\\13.wine_quality_prediction_project\\\\research'"
      ]
     },
     "execution_count": 2,
     "metadata": {},
     "output_type": "execute_result"
    }
   ],
   "source": [
    "%pwd"
   ]
  },
  {
   "cell_type": "code",
   "execution_count": 5,
   "metadata": {},
   "outputs": [],
   "source": [
    "os.chdir(\"../\")"
   ]
  },
  {
   "cell_type": "code",
   "execution_count": 6,
   "metadata": {},
   "outputs": [
    {
     "data": {
      "text/plain": [
       "'c:\\\\Users\\\\HP\\\\Desktop\\\\DS\\\\Projects\\\\13.wine_quality_prediction_project'"
      ]
     },
     "execution_count": 6,
     "metadata": {},
     "output_type": "execute_result"
    }
   ],
   "source": [
    "%pwd"
   ]
  },
  {
   "cell_type": "code",
   "execution_count": 5,
   "metadata": {},
   "outputs": [],
   "source": [
    "#1.config code -> writen in config file\n"
   ]
  },
  {
   "cell_type": "code",
   "execution_count": 7,
   "metadata": {},
   "outputs": [],
   "source": [
    "#2. entity code\n",
    "from pathlib import Path\n",
    "from dataclasses import dataclass\n",
    "\n",
    "@dataclass(frozen=True)\n",
    "class DataValidationConfig:\n",
    "    root_dir: Path\n",
    "    unzip_data_dir: Path\n",
    "    STATUS_FILE: str\n",
    "    all_schema: dict"
   ]
  },
  {
   "cell_type": "code",
   "execution_count": 8,
   "metadata": {},
   "outputs": [],
   "source": [
    "#3.configurationManager code\n",
    "from mlProject.constants import *\n",
    "from mlProject.utils.common import read_yaml,create_directories\n",
    "from mlProject.logging import logger\n",
    "\n",
    "class ConfigurationManager:\n",
    "    def __init__(\n",
    "        self,\n",
    "        config_filepath = CONFIG_FILE_PATH,\n",
    "        params_filepath = PARAMS_FILE_PATH,\n",
    "        schema_filepath = SCHEMA_FILE_PATH):\n",
    "\n",
    "        self.config = read_yaml(config_filepath)\n",
    "        self.params = read_yaml(params_filepath)\n",
    "        self.schema = read_yaml(schema_filepath)\n",
    "\n",
    "        create_directories([self.config.artifacts_root])\n",
    "\n",
    "        logger.info(\"data validation configuration started\")\n",
    "\n",
    "    def get_data_validation_config(self) -> DataValidationConfig:\n",
    "        config=self.config.data_validation #it will config with schema of validation \n",
    "        schema = self.schema\n",
    "\n",
    "        create_directories([config.root_dir]) #it will create dir as per config.yaml file dir\n",
    "\n",
    "        data_validation_config = DataValidationConfig(\n",
    "            root_dir = config.root_dir,\n",
    "            unzip_data_dir = config.unzip_data_dir,\n",
    "            STATUS_FILE = config.STATUS_FILE,\n",
    "            all_schema =  schema.COLUMNS\n",
    "        )\n",
    "        return data_validation_config\n"
   ]
  },
  {
   "cell_type": "code",
   "execution_count": 17,
   "metadata": {},
   "outputs": [],
   "source": [
    "#4  component\n",
    "from mlProject.logging import logger\n",
    "import os\n",
    "import pandas as pd\n",
    "\n",
    "class DataValidation:\n",
    "    def __init__(self, config: DataValidationConfig):\n",
    "        self.config = config\n",
    "\n",
    "    def validate_all_columns(self) -> bool:\n",
    "        try:\n",
    "            validation_status = None\n",
    "            logger.info(\"data load started\")\n",
    "            data=pd.read_csv(self.config.unzip_data_dir)\n",
    "            all_columns = list(data.columns)\n",
    "            #also get all columns from schema\n",
    "            all_schema = self.config.all_schema.keys()\n",
    "\n",
    "            for col in all_columns:\n",
    "                if col not in all_schema:\n",
    "                    validation_status = False\n",
    "                    with open(self.config.STATUS_FILE,\"w\") as f:\n",
    "                        f.write(f\"validation status is {validation_status} and this {col} column is not in data\\n\")\n",
    "                else:\n",
    "                    validation_status = True\n",
    "                    with open(self.config.STATUS_FILE,\"w\") as f:\n",
    "                        f.write(f\"validation status is {validation_status} \")\n",
    "            return validation_status    \n",
    "    \n",
    "        except Exception as e:\n",
    "            raise e\n",
    "        \n",
    "    def validate_column_data_type(self):\n",
    "        try:\n",
    "            validation_status = {}\n",
    "            logger.info(\"validate each column based on schema started\")\n",
    "\n",
    "            data=pd.read_csv(self.config.unzip_data_dir)\n",
    "            \n",
    "            #also get all columns from schema\n",
    "            all_schema = self.config.all_schema\n",
    "            for column,expected_type in all_schema.items():\n",
    "                if column in data.columns:\n",
    "                    actual_type = data[column].dtype\n",
    "                    validation_status[column] =str(actual_type)==(expected_type)\n",
    "                    \n",
    "                else: \n",
    "                    validation_status[column] = False\n",
    "                    \n",
    "            with open(self.config.STATUS_FILE, \"a\") as f:\n",
    "                f.write(f\"column validation as per schema:{validation_status}\\n\")\n",
    "                        \n",
    "            return validation_status\n",
    "            \n",
    "            \n",
    "        except Exception as e:\n",
    "            raise e"
   ]
  },
  {
   "cell_type": "code",
   "execution_count": 18,
   "metadata": {},
   "outputs": [
    {
     "name": "stdout",
     "output_type": "stream",
     "text": [
      "[2024-07-01 12:08:18,559: INFO:common:yaml file: config\\config.yaml loaded successfully]\n",
      "[2024-07-01 12:08:18,562: INFO:common:yaml file: params.yaml loaded successfully]\n",
      "[2024-07-01 12:08:18,567: INFO:common:yaml file: schema.yaml loaded successfully]\n",
      "[2024-07-01 12:08:18,572: INFO:common:created directory at: artifacts]\n",
      "[2024-07-01 12:08:18,573: INFO:2060978970:data validation configuration started]\n",
      "[2024-07-01 12:08:18,575: INFO:common:created directory at: artifacts/data_validation]\n",
      "[2024-07-01 12:08:18,575: INFO:464125282:data load started]\n",
      "[2024-07-01 12:08:18,592: INFO:464125282:validate each column based on schema started]\n"
     ]
    }
   ],
   "source": [
    "#5 pipeline for validation\n",
    "\n",
    "try:\n",
    "    config  = ConfigurationManager()\n",
    "    data_validation_config = config.get_data_validation_config()\n",
    "    data_validation = DataValidation(config =data_validation_config)\n",
    "    data_validation.validate_all_columns()\n",
    "    data_validation.validate_column_data_type()\n",
    "except Exception as e:\n",
    "    raise e"
   ]
  }
 ],
 "metadata": {
  "kernelspec": {
   "display_name": "Python 3",
   "language": "python",
   "name": "python3"
  },
  "language_info": {
   "codemirror_mode": {
    "name": "ipython",
    "version": 3
   },
   "file_extension": ".py",
   "mimetype": "text/x-python",
   "name": "python",
   "nbconvert_exporter": "python",
   "pygments_lexer": "ipython3",
   "version": "3.8.19"
  }
 },
 "nbformat": 4,
 "nbformat_minor": 2
}
