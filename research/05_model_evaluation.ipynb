{
 "cells": [
  {
   "cell_type": "code",
   "execution_count": 6,
   "metadata": {},
   "outputs": [],
   "source": [
    "import os"
   ]
  },
  {
   "cell_type": "code",
   "execution_count": 7,
   "metadata": {},
   "outputs": [
    {
     "data": {
      "text/plain": [
       "'c:\\\\Users\\\\HP\\\\Desktop\\\\DS\\\\Projects\\\\13.wine_quality_prediction_project\\\\research'"
      ]
     },
     "execution_count": 7,
     "metadata": {},
     "output_type": "execute_result"
    }
   ],
   "source": [
    "%pwd"
   ]
  },
  {
   "cell_type": "code",
   "execution_count": 8,
   "metadata": {},
   "outputs": [],
   "source": [
    "os.chdir(\"../\")"
   ]
  },
  {
   "cell_type": "code",
   "execution_count": 9,
   "metadata": {},
   "outputs": [
    {
     "data": {
      "text/plain": [
       "'c:\\\\Users\\\\HP\\\\Desktop\\\\DS\\\\Projects\\\\13.wine_quality_prediction_project'"
      ]
     },
     "execution_count": 9,
     "metadata": {},
     "output_type": "execute_result"
    }
   ],
   "source": [
    "%pwd"
   ]
  },
  {
   "cell_type": "code",
   "execution_count": 10,
   "metadata": {},
   "outputs": [],
   "source": [
    "from dataclasses import dataclass\n",
    "from pathlib import Path\n",
    "\n",
    "@dataclass(frozen=True)\n",
    "class ModelEvaluationConfig:\n",
    "    root_dir: Path\n",
    "    test_data_path: Path\n",
    "    model_path: Path\n",
    "    metrics_file_name: str\n",
    "    target_column: str"
   ]
  },
  {
   "cell_type": "code",
   "execution_count": 14,
   "metadata": {},
   "outputs": [],
   "source": [
    "from mlProject.utils.common import read_yaml,create_directories\n",
    "from mlProject.constants import *\n",
    "from mlProject.logging import logger\n",
    "\n",
    "class ConfigurationManager:\n",
    "    def __init__(\n",
    "            self,\n",
    "            config_filepath = CONFIG_FILE_PATH,\n",
    "            params_filepath = PARAMS_FILE_PATH,\n",
    "            schema_filepath = SCHEMA_FILE_PATH\n",
    "            ):\n",
    "        \n",
    "        self.config = read_yaml(config_filepath)\n",
    "        self.params = read_yaml(params_filepath)\n",
    "        self.schema = read_yaml(schema_filepath)\n",
    "\n",
    "        create_directories([self.config.artifacts_root])\n",
    "\n",
    "    def get_model_evaluation_config(self) -> ModelEvaluationConfig:\n",
    "        config = self.config.model_evaluation\n",
    "        schema = self.schema.TARGET_COLUMN\n",
    "\n",
    "        create_directories([config.root_dir])\n",
    "        module_evaluation_config = ModelEvaluationConfig(\n",
    "            root_dir = config.root_dir,\n",
    "            test_data_path = config.test_data_path,\n",
    "            model_path= config.model_path,\n",
    "            metrics_file_name= config.metrics_file_name,\n",
    "            target_column= schema.name\n",
    "        )\n",
    "        return module_evaluation_config\n"
   ]
  },
  {
   "cell_type": "code",
   "execution_count": 17,
   "metadata": {},
   "outputs": [],
   "source": [
    "from sklearn.metrics import r2_score,mean_absolute_error,mean_squared_error\n",
    "import numpy as np\n",
    "import pandas as pd\n",
    "import joblib\n",
    "from mlProject.utils.common import save_json\n",
    "\n",
    "class ModelEvaluation:\n",
    "    def __init__(self,config:ModelEvaluationConfig):\n",
    "        self.config = config\n",
    "    \n",
    "    def evaluation_metrics(self,actual,predict):\n",
    "        r2=r2_score(actual,predict)\n",
    "        mse= mean_squared_error(actual,predict)\n",
    "        rmse =np.sqrt(mse)\n",
    "        mae=mean_absolute_error(actual,predict)\n",
    "        return r2,rmse,mae\n",
    "\n",
    "    def save_evluation(self):\n",
    "        test_data = pd.read_csv(self.config.test_data_path)\n",
    "        model = joblib.load(self.config.model_path)\n",
    "\n",
    "        X_test =test_data.drop([self.config.target_column],axis=1)\n",
    "        y_test = test_data[[self.config.target_column]]\n",
    "\n",
    "        prediction = model.predict(X_test)\n",
    "\n",
    "        (r2,rmse,mae) = self.evaluation_metrics(y_test,prediction)\n",
    "\n",
    "        #saving to local\n",
    "        scores = {\"r2 score\": r2, \"rmse score\": rmse, \"mae score\": mae}\n",
    "        save_json(path = Path(self.config.metrics_file_name), data=scores)\n",
    "\n",
    "\n",
    "\n",
    "\n",
    "    \n",
    "\n"
   ]
  },
  {
   "cell_type": "code",
   "execution_count": 18,
   "metadata": {},
   "outputs": [
    {
     "name": "stdout",
     "output_type": "stream",
     "text": [
      "[2024-07-06 17:06:05,646: INFO:common:yaml file: config\\config.yaml loaded successfully]\n",
      "[2024-07-06 17:06:05,649: INFO:common:yaml file: params.yaml loaded successfully]\n",
      "[2024-07-06 17:06:05,654: INFO:common:yaml file: schema.yaml loaded successfully]\n",
      "[2024-07-06 17:06:05,658: INFO:common:created directory at: artifacts]\n",
      "[2024-07-06 17:06:05,658: INFO:common:created directory at: artifacts/model_evaluation]\n",
      "[2024-07-06 17:06:05,856: INFO:common:json file saved at: artifacts\\model_evaluation\\metrics.json]\n"
     ]
    }
   ],
   "source": [
    "#pipeline\n",
    "try:\n",
    "    config = ConfigurationManager()\n",
    "    model_evaluation_config = config.get_model_evaluation_config()\n",
    "    model_evaluation = ModelEvaluation(config =model_evaluation_config)\n",
    "    model_evaluation.save_evluation()\n",
    "except Exception as e:\n",
    "    raise e"
   ]
  }
 ],
 "metadata": {
  "kernelspec": {
   "display_name": "Python 3",
   "language": "python",
   "name": "python3"
  },
  "language_info": {
   "codemirror_mode": {
    "name": "ipython",
    "version": 3
   },
   "file_extension": ".py",
   "mimetype": "text/x-python",
   "name": "python",
   "nbconvert_exporter": "python",
   "pygments_lexer": "ipython3",
   "version": "3.8.19"
  }
 },
 "nbformat": 4,
 "nbformat_minor": 2
}
